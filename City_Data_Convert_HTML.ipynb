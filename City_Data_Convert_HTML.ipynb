{
 "cells": [
  {
   "cell_type": "code",
   "execution_count": 1,
   "metadata": {},
   "outputs": [],
   "source": [
    "# Dependencies and Setup\n",
    "import matplotlib.pyplot as plt\n",
    "import pandas as pd"
   ]
  },
  {
   "cell_type": "code",
   "execution_count": 2,
   "metadata": {},
   "outputs": [],
   "source": [
    "#Files\n",
    "input_data_file = \"Resources/cities.csv\"\n",
    "output_data_file = \"Resources/cities.html\""
   ]
  },
  {
   "cell_type": "code",
   "execution_count": 3,
   "metadata": {},
   "outputs": [
    {
     "data": {
      "text/html": [
       "<div>\n",
       "<style scoped>\n",
       "    .dataframe tbody tr th:only-of-type {\n",
       "        vertical-align: middle;\n",
       "    }\n",
       "\n",
       "    .dataframe tbody tr th {\n",
       "        vertical-align: top;\n",
       "    }\n",
       "\n",
       "    .dataframe thead th {\n",
       "        text-align: right;\n",
       "    }\n",
       "</style>\n",
       "<table border=\"1\" class=\"dataframe\">\n",
       "  <thead>\n",
       "    <tr style=\"text-align: right;\">\n",
       "      <th></th>\n",
       "      <th>City</th>\n",
       "      <th>Country</th>\n",
       "      <th>Latitude</th>\n",
       "      <th>Longitude</th>\n",
       "      <th>Temperature</th>\n",
       "      <th>Humidity</th>\n",
       "      <th>Wind</th>\n",
       "      <th>Cloudiness</th>\n",
       "      <th>Datetime</th>\n",
       "    </tr>\n",
       "  </thead>\n",
       "  <tbody>\n",
       "    <tr>\n",
       "      <th>0</th>\n",
       "      <td>albany</td>\n",
       "      <td>US</td>\n",
       "      <td>42.60</td>\n",
       "      <td>-73.97</td>\n",
       "      <td>39.79</td>\n",
       "      <td>33</td>\n",
       "      <td>24.16</td>\n",
       "      <td>40</td>\n",
       "      <td>1587069002</td>\n",
       "    </tr>\n",
       "    <tr>\n",
       "      <th>1</th>\n",
       "      <td>yar-sale</td>\n",
       "      <td>RU</td>\n",
       "      <td>66.83</td>\n",
       "      <td>70.83</td>\n",
       "      <td>16.97</td>\n",
       "      <td>98</td>\n",
       "      <td>10.83</td>\n",
       "      <td>97</td>\n",
       "      <td>1587069015</td>\n",
       "    </tr>\n",
       "    <tr>\n",
       "      <th>2</th>\n",
       "      <td>ushuaia</td>\n",
       "      <td>AR</td>\n",
       "      <td>-54.80</td>\n",
       "      <td>-68.30</td>\n",
       "      <td>57.20</td>\n",
       "      <td>58</td>\n",
       "      <td>4.70</td>\n",
       "      <td>99</td>\n",
       "      <td>1587069008</td>\n",
       "    </tr>\n",
       "    <tr>\n",
       "      <th>3</th>\n",
       "      <td>gardabani</td>\n",
       "      <td>GE</td>\n",
       "      <td>41.46</td>\n",
       "      <td>45.09</td>\n",
       "      <td>46.40</td>\n",
       "      <td>70</td>\n",
       "      <td>34.45</td>\n",
       "      <td>82</td>\n",
       "      <td>1587069121</td>\n",
       "    </tr>\n",
       "    <tr>\n",
       "      <th>4</th>\n",
       "      <td>esperance</td>\n",
       "      <td>AU</td>\n",
       "      <td>-33.87</td>\n",
       "      <td>121.90</td>\n",
       "      <td>51.80</td>\n",
       "      <td>87</td>\n",
       "      <td>6.93</td>\n",
       "      <td>0</td>\n",
       "      <td>1587069048</td>\n",
       "    </tr>\n",
       "  </tbody>\n",
       "</table>\n",
       "</div>"
      ],
      "text/plain": [
       "        City Country  Latitude  Longitude  Temperature  Humidity   Wind  \\\n",
       "0     albany      US     42.60     -73.97        39.79        33  24.16   \n",
       "1   yar-sale      RU     66.83      70.83        16.97        98  10.83   \n",
       "2    ushuaia      AR    -54.80     -68.30        57.20        58   4.70   \n",
       "3  gardabani      GE     41.46      45.09        46.40        70  34.45   \n",
       "4  esperance      AU    -33.87     121.90        51.80        87   6.93   \n",
       "\n",
       "   Cloudiness    Datetime  \n",
       "0          40  1587069002  \n",
       "1          97  1587069015  \n",
       "2          99  1587069008  \n",
       "3          82  1587069121  \n",
       "4           0  1587069048  "
      ]
     },
     "execution_count": 3,
     "metadata": {},
     "output_type": "execute_result"
    }
   ],
   "source": [
    "# Import cities file as DataFrame\n",
    "cities_data = pd.read_csv(input_data_file)\n",
    "cities_data.head()"
   ]
  },
  {
   "cell_type": "code",
   "execution_count": 4,
   "metadata": {},
   "outputs": [],
   "source": [
    "#Export to html\n",
    "cities_data.to_html(output_data_file, index=False)"
   ]
  },
  {
   "cell_type": "code",
   "execution_count": null,
   "metadata": {},
   "outputs": [],
   "source": []
  }
 ],
 "metadata": {
  "kernelspec": {
   "display_name": "Python 3",
   "language": "python",
   "name": "python3"
  },
  "language_info": {
   "codemirror_mode": {
    "name": "ipython",
    "version": 3
   },
   "file_extension": ".py",
   "mimetype": "text/x-python",
   "name": "python",
   "nbconvert_exporter": "python",
   "pygments_lexer": "ipython3",
   "version": "3.6.10"
  }
 },
 "nbformat": 4,
 "nbformat_minor": 4
}
